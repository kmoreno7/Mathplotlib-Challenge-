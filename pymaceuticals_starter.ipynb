{
 "cells": [
  {
   "cell_type": "markdown",
   "metadata": {},
   "source": [
    "## Observations and Insights "
   ]
  },
  {
   "cell_type": "markdown",
   "metadata": {},
   "source": []
  },
  {
   "cell_type": "code",
   "execution_count": null,
   "metadata": {},
   "outputs": [],
   "source": [
    "#Three observations \n",
    "# 1) On average, mice who were on Ramicane had smaller tumors.\n",
    "# 2) Over time mice who were on Capomulin had their tumors reduced from 45 mm3 to about 20 mm3.\n",
    "# 3) Mice on Capomulin that had larger tumors also weighed more."
   ]
  },
  {
   "cell_type": "code",
   "execution_count": 1,
   "metadata": {},
   "outputs": [
    {
     "name": "stdout",
     "output_type": "stream",
     "text": [
      "    Mouse ID Drug Regimen     Sex  Age_months  Weight (g)\n",
      "0       k403     Ramicane    Male          21          16\n",
      "1       s185    Capomulin  Female           3          17\n",
      "2       x401    Capomulin  Female          16          15\n",
      "3       m601    Capomulin    Male          22          17\n",
      "4       g791     Ramicane    Male          11          16\n",
      "..       ...          ...     ...         ...         ...\n",
      "244     z314     Stelasyn  Female          21          28\n",
      "245     z435     Propriva  Female          12          26\n",
      "246     z581    Infubinol  Female          24          25\n",
      "247     z795     Naftisol  Female          13          29\n",
      "248     z969     Naftisol    Male           9          30\n",
      "\n",
      "[249 rows x 5 columns]\n",
      "     Mouse ID  Timepoint  Tumor Volume (mm3)  Metastatic Sites\n",
      "0        b128          0           45.000000                 0\n",
      "1        f932          0           45.000000                 0\n",
      "2        g107          0           45.000000                 0\n",
      "3        a457          0           45.000000                 0\n",
      "4        c819          0           45.000000                 0\n",
      "...       ...        ...                 ...               ...\n",
      "1888     r944         45           41.581521                 2\n",
      "1889     u364         45           31.023923                 3\n",
      "1890     p438         45           61.433892                 1\n",
      "1891     x773         45           58.634971                 4\n",
      "1892     b879         45           72.555239                 2\n",
      "\n",
      "[1893 rows x 4 columns]\n"
     ]
    },
    {
     "data": {
      "text/plain": [
       "<bound method NDFrame.head of      Mouse ID Drug Regimen   Sex  Age_months  Weight (g)  Timepoint  \\\n",
       "0        k403     Ramicane  Male          21          16          0   \n",
       "1        k403     Ramicane  Male          21          16          5   \n",
       "2        k403     Ramicane  Male          21          16         10   \n",
       "3        k403     Ramicane  Male          21          16         15   \n",
       "4        k403     Ramicane  Male          21          16         20   \n",
       "...       ...          ...   ...         ...         ...        ...   \n",
       "1888     z969     Naftisol  Male           9          30         25   \n",
       "1889     z969     Naftisol  Male           9          30         30   \n",
       "1890     z969     Naftisol  Male           9          30         35   \n",
       "1891     z969     Naftisol  Male           9          30         40   \n",
       "1892     z969     Naftisol  Male           9          30         45   \n",
       "\n",
       "      Tumor Volume (mm3)  Metastatic Sites  \n",
       "0              45.000000                 0  \n",
       "1              38.825898                 0  \n",
       "2              35.014271                 1  \n",
       "3              34.223992                 1  \n",
       "4              32.997729                 1  \n",
       "...                  ...               ...  \n",
       "1888           63.145652                 2  \n",
       "1889           65.841013                 3  \n",
       "1890           69.176246                 4  \n",
       "1891           70.314904                 4  \n",
       "1892           73.867845                 4  \n",
       "\n",
       "[1893 rows x 8 columns]>"
      ]
     },
     "execution_count": 1,
     "metadata": {},
     "output_type": "execute_result"
    }
   ],
   "source": [
    "\n",
    "# Dependencies and Setup\n",
    "import matplotlib.pyplot as plt\n",
    "import pandas as pd\n",
    "import scipy.stats as st\n",
    "import numpy as np\n",
    "\n",
    "# Study data files\n",
    "mouse_metadata_path = \"data/Mouse_metadata.csv\"\n",
    "study_results_path = \"data/Study_results.csv\"\n",
    "\n",
    "# Read the mouse data and the study results\n",
    "mouse_metadata = pd.read_csv(mouse_metadata_path)\n",
    "study_results = pd.read_csv(study_results_path)\n",
    "\n",
    "print(mouse_metadata)\n",
    "print(study_results)\n",
    "\n",
    "# Combine the data into a single dataset\n",
    "\n",
    "mouse_data_complete = pd.merge(mouse_metadata, study_results, how=\"left\", on=[\"Mouse ID\", \"Mouse ID\"])\n",
    "\n",
    "# Display the data table for preview\n",
    "mouse_data_complete.head"
   ]
  },
  {
   "cell_type": "code",
   "execution_count": 2,
   "metadata": {},
   "outputs": [
    {
     "name": "stdout",
     "output_type": "stream",
     "text": [
      "249\n"
     ]
    }
   ],
   "source": [
    "# Checking the number of mice.\n",
    "number_of_mice = len(pd.unique(mouse_data_complete[\"Mouse ID\"]))\n",
    "print(number_of_mice)"
   ]
  },
  {
   "cell_type": "code",
   "execution_count": 3,
   "metadata": {},
   "outputs": [
    {
     "name": "stdout",
     "output_type": "stream",
     "text": [
      "['g989']\n"
     ]
    }
   ],
   "source": [
    "# Getting the duplicate mice by ID number that shows up for Mouse ID and Timepoint. \n",
    "duplicate_mice = mouse_data_complete.loc[mouse_data_complete.duplicated(subset=['Mouse ID', 'Timepoint',]),'Mouse ID'].unique()\n",
    "\n",
    "print(duplicate_mice)"
   ]
  },
  {
   "cell_type": "code",
   "execution_count": 4,
   "metadata": {},
   "outputs": [],
   "source": [
    "# Optional: Get all the data for the duplicate mouse ID. \n",
    "all_duplicate_mice=duplicate_mice"
   ]
  },
  {
   "cell_type": "code",
   "execution_count": 5,
   "metadata": {},
   "outputs": [],
   "source": [
    "# Create a clean DataFrame by dropping the duplicate mouse by its ID.\n",
    "clean_mice_df = mouse_data_complete[mouse_data_complete['Mouse ID'].isin(duplicate_mice)==False]"
   ]
  },
  {
   "cell_type": "code",
   "execution_count": 6,
   "metadata": {},
   "outputs": [
    {
     "name": "stdout",
     "output_type": "stream",
     "text": [
      "248\n"
     ]
    }
   ],
   "source": [
    "# Checking the number of mice in the clean DataFrame.\n",
    "number_of_mice_df = len(pd.unique(clean_mice_df[\"Mouse ID\"]))\n",
    "print(number_of_mice_df)"
   ]
  },
  {
   "cell_type": "markdown",
   "metadata": {},
   "source": [
    "## Summary Statistics"
   ]
  },
  {
   "cell_type": "code",
   "execution_count": 7,
   "metadata": {},
   "outputs": [
    {
     "name": "stdout",
     "output_type": "stream",
     "text": [
      "                Average     Median   Variance       STD       SEM\n",
      "Drug Regimen                                                     \n",
      "Capomulin     40.675741  41.557809  24.947764  4.994774  0.329346\n",
      "Ceftamin      52.591172  51.776157  39.290177  6.268188  0.469821\n",
      "Infubinol     52.884795  51.820584  43.128684  6.567243  0.492236\n",
      "Ketapril      55.235638  53.698743  68.553577  8.279709  0.603860\n",
      "Naftisol      54.331565  52.509285  66.173479  8.134708  0.596466\n",
      "Placebo       54.033581  52.288934  61.168083  7.821003  0.581331\n",
      "Propriva      52.320930  50.446266  43.852013  6.622085  0.544332\n",
      "Ramicane      40.216745  40.673236  23.486704  4.846308  0.320955\n",
      "Stelasyn      54.233149  52.431737  59.450562  7.710419  0.573111\n",
      "Zoniferol     53.236507  51.818479  48.533355  6.966589  0.516398\n"
     ]
    }
   ],
   "source": [
    "# Generate a summary statistics table of mean, median, variance, standard deviation, and SEM of the tumor volume for each regimen\n",
    "\n",
    "# Use groupby and summary statistical methods to calculate the following properties of each drug regimen: \n",
    "# mean, median, variance, standard deviation, and SEM of the tumor volume. \n",
    "\n",
    "regimen_average = clean_mice_df.groupby(['Drug Regimen']).mean()['Tumor Volume (mm3)']\n",
    "\n",
    "regimen_median = clean_mice_df.groupby(['Drug Regimen']).median()['Tumor Volume (mm3)']\n",
    "\n",
    "regimen_variance = clean_mice_df.groupby(['Drug Regimen']).var()['Tumor Volume (mm3)']\n",
    "\n",
    "regimen_std = clean_mice_df.groupby(['Drug Regimen']).std()['Tumor Volume (mm3)']\n",
    "\n",
    "regimen_sem = clean_mice_df.groupby(['Drug Regimen']).sem()['Tumor Volume (mm3)']\n",
    "\n",
    "# Assemble the resulting series into a single summary dataframe.\n",
    "regimen_summary = pd.DataFrame({\n",
    "    \"Average\": regimen_average,\n",
    "    \"Median\": regimen_median,\n",
    "    \"Variance\": regimen_variance,\n",
    "    \"STD\": regimen_std,\n",
    "    \"SEM\": regimen_sem})\n",
    "\n",
    "print(regimen_summary)\n"
   ]
  },
  {
   "cell_type": "code",
   "execution_count": 8,
   "metadata": {},
   "outputs": [
    {
     "name": "stderr",
     "output_type": "stream",
     "text": [
      "/var/folders/2c/v883w4nx4rzby0m4xp1grjxm0000gn/T/ipykernel_97783/1856953356.py:6: FutureWarning: ['Mouse ID', 'Sex'] did not aggregate successfully. If any error is raised this will raise in a future version of pandas. Drop these columns/ops to avoid this warning.\n",
      "  regimen_summary2 = clean_mice_df.groupby(['Drug Regimen']).agg(['mean', 'median', 'var', 'std','sem'])['Tumor Volume (mm3)']\n"
     ]
    }
   ],
   "source": [
    "# Generate a summary statistics table of mean, median, variance, standard deviation, and SEM of the tumor volume for each regimen\n",
    "\n",
    "# Using the aggregation method, produce the same summary statistics in a single line\n",
    "#df.agg(['sum', 'min'])\n",
    "\n",
    "regimen_summary2 = clean_mice_df.groupby(['Drug Regimen']).agg(['mean', 'median', 'var', 'std','sem'])['Tumor Volume (mm3)']"
   ]
  },
  {
   "cell_type": "markdown",
   "metadata": {},
   "source": [
    "## Bar and Pie Charts"
   ]
  },
  {
   "cell_type": "code",
   "execution_count": 9,
   "metadata": {},
   "outputs": [
    {
     "data": {
      "text/plain": [
       "<AxesSubplot:xlabel='Drug Regimen'>"
      ]
     },
     "execution_count": 9,
     "metadata": {},
     "output_type": "execute_result"
    },
    {
     "data": {
      "image/png": "[encoded data removed]",
      "text/plain": [
       "<Figure size 432x288 with 1 Axes>"
      ]
     },
     "metadata": {
      "needs_background": "light"
     },
     "output_type": "display_data"
    }
   ],
   "source": [
    "# Generate a bar plot showing the total number of timepoints for all mice tested for each drug regimen using Pandas.\n",
    "mice_bar_df = clean_mice_df.groupby(['Drug Regimen']).count()['Mouse ID']\n",
    "mice_bar_pd = mice_bar_df.plot.bar(x='Drug Regimen', y='Mouse Count')\n",
    "\n",
    "mice_bar_pd"
   ]
  },
  {
   "cell_type": "code",
   "execution_count": 10,
   "metadata": {},
   "outputs": [
    {
     "data": {
      "text/plain": [
       "Text(0, 0.5, 'Mouse Count')"
      ]
     },
     "execution_count": 10,
     "metadata": {},
     "output_type": "execute_result"
    },
    {
     "data": {
      "image/png": "[encoded data removed]",
      "text/plain": [
       "<Figure size 720x360 with 1 Axes>"
      ]
     },
     "metadata": {
      "needs_background": "light"
     },
     "output_type": "display_data"
    }
   ],
   "source": [
    "# Generate a bar plot showing the total number of timepoints for all mice tested for each drug regimen using pyplot.\n",
    "mice_bar_df = clean_mice_df.groupby(['Drug Regimen']).count()['Mouse ID']\n",
    "x_axis = np.arange(len(mice_bar_df))\n",
    "number_of_Mice = mice_bar_df\n",
    "tick_locations=[0,1,2,3,4,5,6,7,8,9]\n",
    "\n",
    "fig = plt.figure (figsize = (10, 5))\n",
    "plt.xticks(tick_locations, ['Capomulin', 'Ceftamin', 'Infubinol', 'Ketapril', 'Naftisol', 'Placebo', 'Propriva', 'Ramicane', 'Stelasyn', 'Zoniferol'],  rotation='vertical')\n",
    "plt.bar(x_axis, mice_bar_df)\n",
    "plt.xlabel('Drug Regimen')\n",
    "plt.ylabel('Mouse Count')\n",
    "\n"
   ]
  },
  {
   "cell_type": "code",
   "execution_count": 11,
   "metadata": {},
   "outputs": [
    {
     "data": {
      "text/plain": [
       "Text(0.5, 1.0, 'Female v. Male Count')"
      ]
     },
     "execution_count": 11,
     "metadata": {},
     "output_type": "execute_result"
    },
    {
     "data": {
      "image/png": "[encoded data removed]",
      "text/plain": [
       "<Figure size 1080x1080 with 1 Axes>"
      ]
     },
     "metadata": {},
     "output_type": "display_data"
    }
   ],
   "source": [
    "# Generate a pie plot showing the distribution of female versus male mice using Pandas\n",
    "gender_of_mice = pd.DataFrame(clean_mice_df.groupby(['Mouse ID','Sex']).size())\n",
    "gender_of_mice\n",
    "\n",
    "gender_count=pd.DataFrame(gender_of_mice.groupby([\"Sex\"]).count())\n",
    "gender_count.columns = [\"Count\"]\n",
    "\n",
    "gender_count['percent of gender']= round((gender_count[\"Count\"]/gender_count[\"Count\"].sum())*100,2)\n",
    "gender_count\n",
    "\n",
    "colors = ['pink','blue']\n",
    "gender_count.plot.pie(y='Count',figsize=(15,15),colors = colors, startangle=90, explode =(.03,0))\n",
    "plt.title(\"Female v. Male Count\")\n",
    "\n",
    "\n"
   ]
  },
  {
   "cell_type": "code",
   "execution_count": 12,
   "metadata": {},
   "outputs": [
    {
     "data": {
      "text/plain": [
       "<matplotlib.legend.Legend at 0x7fb26384f9a0>"
      ]
     },
     "execution_count": 12,
     "metadata": {},
     "output_type": "execute_result"
    },
    {
     "data": {
      "image/png": "[encoded data removed]",
      "text/plain": [
       "<Figure size 432x288 with 1 Axes>"
      ]
     },
     "metadata": {},
     "output_type": "display_data"
    }
   ],
   "source": [
    "# Generate a pie plot showing the distribution of female versus male mice using pyplot\n",
    "lables = ['Female','Male']\n",
    "colors = ['pink','blue']\n",
    "plt.pie(gender_count['percent of gender'],labels = lables,colors = colors,startangle = 90,explode =(.03,0))\n",
    "plt.legend()\n",
    "\n"
   ]
  },
  {
   "cell_type": "markdown",
   "metadata": {},
   "source": [
    "## Quartiles, Outliers and Boxplots"
   ]
  },
  {
   "cell_type": "code",
   "execution_count": 13,
   "metadata": {},
   "outputs": [],
   "source": [
    "# Calculate the final tumor volume of each mouse across four of the treatment regimens:  \n",
    "# Capomulin, Ramicane, Infubinol, and Ceftamin\n",
    "\n",
    "Capomulin = clean_mice_df.loc[clean_mice_df[\"Drug Regimen\"] == \"Capomulin\"]\n",
    "Ramicane = clean_mice_df.loc[clean_mice_df[\"Drug Regimen\"] == \"Ramicane\"]\n",
    "Infubinol = clean_mice_df.loc[clean_mice_df[\"Drug Regimen\"] == \"Infubinol\"]\n",
    "Ceftamin = clean_mice_df.loc[clean_mice_df[\"Drug Regimen\"] == \"Ceftamin\"]\n",
    "\n",
    "\n",
    "\n",
    "# Start by getting the last (greatest) timepoint for each mouse\n",
    "\n",
    "Capomulin_last_timepoint = Capomulin.groupby('Mouse ID').max()['Timepoint']\n",
    "Ramicane_last_timepoint = Ramicane.groupby('Mouse ID').max()['Timepoint']\n",
    "Infubinol_last_timepoint = Infubinol.groupby('Mouse ID').max()['Timepoint']\n",
    "Ceftamin_last_timepoint = Ceftamin.groupby('Mouse ID').max()['Timepoint']\n",
    "\n",
    "\n",
    "\n",
    "# Merge this group df with the original dataframe to get the tumor volume at the last timepoint\n",
    "\n",
    "Capomulin_data_complete = pd.merge(Capomulin, Capomulin_last_timepoint, how=\"left\", on=[\"Mouse ID\", \"Timepoint\"])\n",
    "Ramicane_data_complete = pd.merge(Ramicane, Ramicane_last_timepoint, how=\"left\", on=[\"Mouse ID\", \"Timepoint\"])\n",
    "Infubinol_data_complete = pd.merge(Infubinol, Infubinol_last_timepoint, how=\"left\", on=[\"Mouse ID\", \"Timepoint\"])\n",
    "Ceftamin_data_complete = pd.merge(Ceftamin, Ceftamin_last_timepoint, how=\"left\", on=[\"Mouse ID\", \"Timepoint\"])\n"
   ]
  },
  {
   "cell_type": "code",
   "execution_count": 14,
   "metadata": {},
   "outputs": [
    {
     "name": "stdout",
     "output_type": "stream",
     "text": [
      "Not an outlier\n",
      "Not an outlier\n",
      "Not an outlier\n",
      "Not an outlier\n",
      "Not an outlier\n",
      "Not an outlier\n",
      "Not an outlier\n",
      "Not an outlier\n"
     ]
    }
   ],
   "source": [
    "\n",
    "\n",
    "# Calculate the IQR and quantitatively determine if there are any potential outliers. \n",
    "Capomulin_tumors = Capomulin_data_complete[\"Tumor Volume (mm3)\"]\n",
    "\n",
    "quartiles =Capomulin_tumors.quantile([.25,.5,.75])\n",
    "lowerq = quartiles[0.25]\n",
    "upperq = quartiles[0.75]\n",
    "iqr = upperq-lowerq\n",
    "lower_bound = lowerq - (1.5*iqr)\n",
    "upper_bound = upperq + (1.5*iqr)\n",
    "\n",
    "if lowerq < lower_bound:\n",
    "    print(\"Outlier\")\n",
    "else:\n",
    "    print(\"Not an outlier\")\n",
    "\n",
    "if upperq > upper_bound:\n",
    "    print(\"Outlier\")\n",
    "else:\n",
    "    print(\"Not an outlier\")\n",
    "    \n",
    "Ramicane_tumors = Ramicane[\"Tumor Volume (mm3)\"]\n",
    "\n",
    "quartiles =Ramicane_tumors.quantile([.25,.5,.75])\n",
    "lowerq = quartiles[0.25]\n",
    "upperq = quartiles[0.75]\n",
    "iqr = upperq-lowerq\n",
    "lower_bound = lowerq - (1.5*iqr)\n",
    "upper_bound = upperq + (1.5*iqr)\n",
    "\n",
    "if lowerq < lower_bound:\n",
    "    print(\"Outlier\")\n",
    "else:\n",
    "    print(\"Not an outlier\")\n",
    "\n",
    "if upperq > upper_bound:\n",
    "    print(\"Outlier\")\n",
    "else:\n",
    "    print(\"Not an outlier\")\n",
    "\n",
    "\n",
    "Infubinol_tumors = Infubinol[\"Tumor Volume (mm3)\"]\n",
    "\n",
    "quartiles =Infubinol_tumors.quantile([.25,.5,.75])\n",
    "lowerq = quartiles[0.25]\n",
    "upperq = quartiles[0.75]\n",
    "iqr = upperq-lowerq\n",
    "lower_bound = lowerq - (1.5*iqr)\n",
    "upper_bound = upperq + (1.5*iqr)\n",
    "\n",
    "if lowerq < lower_bound:\n",
    "    print(\"Outlier\")\n",
    "else:\n",
    "    print(\"Not an outlier\")\n",
    "\n",
    "if upperq > upper_bound:\n",
    "    print(\"Outlier\")\n",
    "else:\n",
    "    print(\"Not an outlier\")\n",
    "    \n",
    "Ceftamin_tumors = Ceftamin[\"Tumor Volume (mm3)\"]\n",
    "\n",
    "quartiles =Ceftamin_tumors.quantile([.25,.5,.75])\n",
    "lowerq = quartiles[0.25]\n",
    "upperq = quartiles[0.75]\n",
    "iqr = upperq-lowerq\n",
    "lower_bound = lowerq - (1.5*iqr)\n",
    "upper_bound = upperq + (1.5*iqr)\n",
    "\n",
    "if lowerq < lower_bound:\n",
    "    print(\"Outlier\")\n",
    "else:\n",
    "    print(\"Not an outlier\")\n",
    "\n",
    "if upperq > upper_bound:\n",
    "    print(\"Outlier\")\n",
    "else:\n",
    "    print(\"Not an outlier\")\n",
    "\n",
    "    \n",
    "    "
   ]
  },
  {
   "cell_type": "code",
   "execution_count": 15,
   "metadata": {},
   "outputs": [
    {
     "data": {
      "text/plain": [
       "(10.0, 80.0)"
      ]
     },
     "execution_count": 15,
     "metadata": {},
     "output_type": "execute_result"
    },
    {
     "data": {
      "image/png": "[encoded data removed]",
      "text/plain": [
       "<Figure size 432x288 with 1 Axes>"
      ]
     },
     "metadata": {
      "needs_background": "light"
     },
     "output_type": "display_data"
    }
   ],
   "source": [
    "# Generate a box plot of the final tumor volume of each mouse across four regimens of interest\n",
    "Final_Tumor_Vol = [Capomulin_tumors, Ramicane_tumors, Infubinol_tumors, Ceftamin_tumors]\n",
    "Drug= ['Capomulin', 'Ramicane', 'Infubinol','Ceftamin']\n",
    "\n",
    "plt.boxplot(Final_Tumor_Vol, labels=Drug )\n",
    "plt.title('Drug Regimen effect on Final Tumor Volume in Mice')\n",
    "plt.ylabel('Final Tumor Volume (mm3)')\n",
    "plt.xlabel('Drug Regimen')\n",
    "\n",
    "plt.ylim(10, 80)\n"
   ]
  },
  {
   "cell_type": "markdown",
   "metadata": {},
   "source": [
    "## Line and Scatter Plots"
   ]
  },
  {
   "cell_type": "code",
   "execution_count": 16,
   "metadata": {},
   "outputs": [
    {
     "data": {
      "image/png": "[encoded data removed]",
      "text/plain": [
       "<Figure size 432x288 with 1 Axes>"
      ]
     },
     "metadata": {
      "needs_background": "light"
     },
     "output_type": "display_data"
    }
   ],
   "source": [
    "# Generate a line plot of tumor volume vs. time point for a mouse treated with Capomulin\n",
    "Capomulin.head()\n",
    "single_mouse=Capomulin.loc[Capomulin[\"Mouse ID\"] == \"s185\"]\n",
    "plt.plot(single_mouse['Timepoint'],single_mouse['Tumor Volume (mm3)'])\n",
    "plt.title('Tumor Volume vs. Time Point' )\n",
    "plt.xlabel('Time Point')\n",
    "plt.ylabel('Tumor Volume (mm3)')\n",
    "plt.show()"
   ]
  },
  {
   "cell_type": "code",
   "execution_count": 17,
   "metadata": {},
   "outputs": [
    {
     "data": {
      "image/png": "[encoded data removed]",
      "text/plain": [
       "<Figure size 432x288 with 1 Axes>"
      ]
     },
     "metadata": {
      "needs_background": "light"
     },
     "output_type": "display_data"
    }
   ],
   "source": [
    "# Generate a scatter plot of average tumor volume vs. mouse weight for the Capomulin regimen\n",
    "Capomulin.head()\n",
    "Average_Capomulin =Capomulin.groupby(['Mouse ID']).mean()\n",
    "plt.scatter(Average_Capomulin['Weight (g)'],Average_Capomulin['Tumor Volume (mm3)'])\n",
    "plt.title('Tumor Volume vs. Mouse Weight' )\n",
    "plt.xlabel('Weight (g)')\n",
    "plt.ylabel('Tumor Volume (mm3)')\n",
    "plt.show()"
   ]
  },
  {
   "cell_type": "markdown",
   "metadata": {},
   "source": [
    "## Correlation and Regression"
   ]
  },
  {
   "cell_type": "code",
   "execution_count": 18,
   "metadata": {},
   "outputs": [
    {
     "data": {
      "text/plain": [
       "Text(0, 0.5, 'Average Tumor Volume (mm3)')"
      ]
     },
     "execution_count": 18,
     "metadata": {},
     "output_type": "execute_result"
    },
    {
     "data": {
      "image/png": "[encoded data removed]",
      "text/plain": [
       "<Figure size 432x288 with 1 Axes>"
      ]
     },
     "metadata": {
      "needs_background": "light"
     },
     "output_type": "display_data"
    }
   ],
   "source": [
    "# Calculate the correlation coefficient and linear regression model \n",
    "# for mouse weight and average tumor volume for the Capomulin regimen\n",
    "\n",
    "Correlation = round(Average_Capomulin['Weight (g)'].corr(Average_Capomulin['Tumor Volume (mm3)']),2)\n",
    "Correlation\n",
    "\n",
    "#linear regression model \n",
    "x_values = Average_Capomulin['Weight (g)']\n",
    "y_values = Average_Capomulin['Tumor Volume (mm3)']\n",
    "\n",
    "(slope, intercept, rvalue, pvalue, stderr)=st.linregress(x_values, y_values)\n",
    "\n",
    "\n",
    "regression_line = slope * x_values + intercept\n",
    "\n",
    "plt.scatter(x_values,y_values,color = \"black\")\n",
    "plt.plot(x_values,regression_line,color = \"red\")\n",
    "plt.title(' Mouse Weight V Average Tumor Volume (linear regression model)')\n",
    "plt.xlabel('Weight(g)')\n",
    "plt.ylabel('Average Tumor Volume (mm3)')\n"
   ]
  },
  {
   "cell_type": "code",
   "execution_count": null,
   "metadata": {},
   "outputs": [],
   "source": []
  }
 ],
 "metadata": {
  "anaconda-cloud": {},
  "kernelspec": {
   "display_name": "Python 3 (ipykernel)",
   "language": "python",
   "name": "python3"
  },
  "language_info": {
   "codemirror_mode": {
    "name": "ipython",
    "version": 3
   },
   "file_extension": ".py",
   "mimetype": "text/x-python",
   "name": "python",
   "nbconvert_exporter": "python",
   "pygments_lexer": "ipython3",
   "version": "3.9.12"
  }
 },
 "nbformat": 4,
 "nbformat_minor": 4
}
